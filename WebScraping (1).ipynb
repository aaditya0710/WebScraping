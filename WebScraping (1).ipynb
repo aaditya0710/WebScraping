{
  "nbformat": 4,
  "nbformat_minor": 0,
  "metadata": {
    "colab": {
      "name": "WebScraping",
      "provenance": []
    },
    "kernelspec": {
      "name": "python3",
      "display_name": "Python 3"
    }
  },
  "cells": [
    {
      "cell_type": "code",
      "metadata": {
        "id": "B56bJVmzHPXx",
        "colab_type": "code",
        "colab": {}
      },
      "source": [
        "from urllib.request import urlopen\n",
        "from bs4 import BeautifulSoup"
      ],
      "execution_count": 0,
      "outputs": []
    },
    {
      "cell_type": "code",
      "metadata": {
        "id": "v0t1mxuh3wS9",
        "colab_type": "code",
        "colab": {}
      },
      "source": [
        "url = \"http://www.hubertiming.com/results/2017GPTR10K\"\n",
        "html = urlopen(url)"
      ],
      "execution_count": 0,
      "outputs": []
    },
    {
      "cell_type": "code",
      "metadata": {
        "id": "9FpPFjiu4EUQ",
        "colab_type": "code",
        "outputId": "408da03c-dbae-4b81-82ae-2196dcdd6602",
        "colab": {
          "base_uri": "https://localhost:8080/",
          "height": 34
        }
      },
      "source": [
        "soup = BeautifulSoup(html,'lxml')\n",
        "type(soup)"
      ],
      "execution_count": 0,
      "outputs": [
        {
          "output_type": "execute_result",
          "data": {
            "text/plain": [
              "bs4.BeautifulSoup"
            ]
          },
          "metadata": {
            "tags": []
          },
          "execution_count": 3
        }
      ]
    },
    {
      "cell_type": "code",
      "metadata": {
        "id": "aCKliLnd4MyW",
        "colab_type": "code",
        "outputId": "6f4be002-e17f-4333-fd02-8f57b6359b53",
        "colab": {
          "base_uri": "https://localhost:8080/",
          "height": 34
        }
      },
      "source": [
        "title = soup.title\n",
        "print(title)"
      ],
      "execution_count": 0,
      "outputs": [
        {
          "output_type": "stream",
          "text": [
            "<title>2017 Intel Great Place to Run 10K \\ Urban Clash Games Race Results</title>\n"
          ],
          "name": "stdout"
        }
      ]
    },
    {
      "cell_type": "code",
      "metadata": {
        "id": "q9RWWM9G4csT",
        "colab_type": "code",
        "colab": {}
      },
      "source": [
        "text = soup.get_text()"
      ],
      "execution_count": 0,
      "outputs": []
    },
    {
      "cell_type": "code",
      "metadata": {
        "id": "clyvPkwV4raW",
        "colab_type": "code",
        "outputId": "060061f8-31e1-4a4b-b688-b398e98ef34a",
        "colab": {
          "base_uri": "https://localhost:8080/",
          "height": 204
        }
      },
      "source": [
        "all_links = soup.find_all('a')\n",
        "for link in all_links:\n",
        "  print(link.get(\"href\")) "
      ],
      "execution_count": 0,
      "outputs": [
        {
          "output_type": "stream",
          "text": [
            "mailto:timing@hubertiming.com\n",
            "https://www.hubertiming.com/\n",
            "/results/2017GPTR\n",
            "/results/summary/2017GPTR10K\n",
            "#team\n",
            "#individual\n",
            "None\n",
            "None\n",
            "#tabs-1\n",
            "https://www.hubertiming.com/\n",
            "https://facebook.com/hubertiming/\n"
          ],
          "name": "stdout"
        }
      ]
    },
    {
      "cell_type": "code",
      "metadata": {
        "id": "_QoIYq--4sS0",
        "colab_type": "code",
        "colab": {}
      },
      "source": [
        "rows = soup.find_all('tr')\n",
        "print(rows)"
      ],
      "execution_count": 0,
      "outputs": []
    },
    {
      "cell_type": "code",
      "metadata": {
        "id": "AeUkW2_SL6zz",
        "colab_type": "code",
        "colab": {}
      },
      "source": [
        "for row in rows:\n",
        "  row_td = row.find_all('td')\n",
        "  print(row_td)"
      ],
      "execution_count": 0,
      "outputs": []
    },
    {
      "cell_type": "code",
      "metadata": {
        "id": "HbF1tvYHMqBs",
        "colab_type": "code",
        "outputId": "2a907596-2f52-4ad5-9280-68b3024a2a23",
        "colab": {
          "base_uri": "https://localhost:8080/",
          "height": 54
        }
      },
      "source": [
        "str_cells = str(row_td)\n",
        "clean_text = BeautifulSoup(str_cells,'lxml').get_text()\n",
        "print(clean_text)"
      ],
      "execution_count": 0,
      "outputs": [
        {
          "output_type": "stream",
          "text": [
            "[577, 443, LIBBY B MITCHELL, F, HILLSBORO, OR, 1:41:18, 16:20, 163 of 163, F 36-45, 56 of 56, 0:52, 1:42:10, ]\n"
          ],
          "name": "stdout"
        }
      ]
    },
    {
      "cell_type": "code",
      "metadata": {
        "id": "dMupWsXXNnZg",
        "colab_type": "code",
        "outputId": "80cc5da0-80b7-47b8-e4d3-cbb146955ada",
        "colab": {
          "base_uri": "https://localhost:8080/",
          "height": 71
        }
      },
      "source": [
        "import re\n",
        "\n",
        "list_rows = []\n",
        "for row in rows:\n",
        "  cells = row.find_all('td')\n",
        "  str_cells = str(cells)\n",
        "  clean = re.compile('<.*?>')\n",
        "  clean2 = (re.sub(clean,'',str_cells))\n",
        "  list_rows.append(clean2)\n",
        "print(clean2)\n",
        "type(clean2)"
      ],
      "execution_count": 0,
      "outputs": [
        {
          "output_type": "stream",
          "text": [
            "[577, 443, LIBBY B MITCHELL, F, HILLSBORO, OR, 1:41:18, 16:20, 163 of 163, F 36-45, 56 of 56, 0:52, 1:42:10, ]\n"
          ],
          "name": "stdout"
        },
        {
          "output_type": "execute_result",
          "data": {
            "text/plain": [
              "str"
            ]
          },
          "metadata": {
            "tags": []
          },
          "execution_count": 15
        }
      ]
    },
    {
      "cell_type": "code",
      "metadata": {
        "id": "scPHqRLFSw8b",
        "colab_type": "code",
        "outputId": "982c645a-244d-4ce8-fba5-055f15053340",
        "colab": {
          "base_uri": "https://localhost:8080/",
          "height": 359
        }
      },
      "source": [
        "import pandas as pd\n",
        "\n",
        "df = pd.DataFrame(list_rows)\n",
        "df.head(10)"
      ],
      "execution_count": 25,
      "outputs": [
        {
          "output_type": "execute_result",
          "data": {
            "text/html": [
              "<div>\n",
              "<style scoped>\n",
              "    .dataframe tbody tr th:only-of-type {\n",
              "        vertical-align: middle;\n",
              "    }\n",
              "\n",
              "    .dataframe tbody tr th {\n",
              "        vertical-align: top;\n",
              "    }\n",
              "\n",
              "    .dataframe thead th {\n",
              "        text-align: right;\n",
              "    }\n",
              "</style>\n",
              "<table border=\"1\" class=\"dataframe\">\n",
              "  <thead>\n",
              "    <tr style=\"text-align: right;\">\n",
              "      <th></th>\n",
              "      <th>0</th>\n",
              "    </tr>\n",
              "  </thead>\n",
              "  <tbody>\n",
              "    <tr>\n",
              "      <th>0</th>\n",
              "      <td>[]</td>\n",
              "    </tr>\n",
              "    <tr>\n",
              "      <th>1</th>\n",
              "      <td>[Finishers:, 577]</td>\n",
              "    </tr>\n",
              "    <tr>\n",
              "      <th>2</th>\n",
              "      <td>[Male:, 414]</td>\n",
              "    </tr>\n",
              "    <tr>\n",
              "      <th>3</th>\n",
              "      <td>[Female:, 163]</td>\n",
              "    </tr>\n",
              "    <tr>\n",
              "      <th>4</th>\n",
              "      <td>[Award, Name, Combined Time, 1, 2, 3, 4]</td>\n",
              "    </tr>\n",
              "    <tr>\n",
              "      <th>5</th>\n",
              "      <td>[1ST, DTNA2, 02:54:41, 00:40:36 - ANDY WEDAM, ...</td>\n",
              "    </tr>\n",
              "    <tr>\n",
              "      <th>6</th>\n",
              "      <td>[2ND, INTEL TEAM K, 03:01:02, 00:41:43 - WILLI...</td>\n",
              "    </tr>\n",
              "    <tr>\n",
              "      <th>7</th>\n",
              "      <td>[3RD, INTEL TEAM F, 03:06:06, 00:36:42 - NATHA...</td>\n",
              "    </tr>\n",
              "    <tr>\n",
              "      <th>8</th>\n",
              "      <td>[4TH, DTNA1, 03:15:33, 00:40:28 - WITALI SPULI...</td>\n",
              "    </tr>\n",
              "    <tr>\n",
              "      <th>9</th>\n",
              "      <td>[5TH, FXG1, 03:21:16, 00:42:56 - DAVID HERRON,...</td>\n",
              "    </tr>\n",
              "  </tbody>\n",
              "</table>\n",
              "</div>"
            ],
            "text/plain": [
              "                                                   0\n",
              "0                                                 []\n",
              "1                                  [Finishers:, 577]\n",
              "2                                       [Male:, 414]\n",
              "3                                     [Female:, 163]\n",
              "4           [Award, Name, Combined Time, 1, 2, 3, 4]\n",
              "5  [1ST, DTNA2, 02:54:41, 00:40:36 - ANDY WEDAM, ...\n",
              "6  [2ND, INTEL TEAM K, 03:01:02, 00:41:43 - WILLI...\n",
              "7  [3RD, INTEL TEAM F, 03:06:06, 00:36:42 - NATHA...\n",
              "8  [4TH, DTNA1, 03:15:33, 00:40:28 - WITALI SPULI...\n",
              "9  [5TH, FXG1, 03:21:16, 00:42:56 - DAVID HERRON,..."
            ]
          },
          "metadata": {
            "tags": []
          },
          "execution_count": 25
        }
      ]
    },
    {
      "cell_type": "code",
      "metadata": {
        "id": "2kFCque1S5aY",
        "colab_type": "code",
        "outputId": "5e22abe6-bf8b-4749-b21c-bc394756a1cb",
        "colab": {
          "base_uri": "https://localhost:8080/",
          "height": 419
        }
      },
      "source": [
        "df[4:-1]"
      ],
      "execution_count": 0,
      "outputs": [
        {
          "output_type": "execute_result",
          "data": {
            "text/html": [
              "<div>\n",
              "<style scoped>\n",
              "    .dataframe tbody tr th:only-of-type {\n",
              "        vertical-align: middle;\n",
              "    }\n",
              "\n",
              "    .dataframe tbody tr th {\n",
              "        vertical-align: top;\n",
              "    }\n",
              "\n",
              "    .dataframe thead th {\n",
              "        text-align: right;\n",
              "    }\n",
              "</style>\n",
              "<table border=\"1\" class=\"dataframe\">\n",
              "  <thead>\n",
              "    <tr style=\"text-align: right;\">\n",
              "      <th></th>\n",
              "      <th>0</th>\n",
              "    </tr>\n",
              "  </thead>\n",
              "  <tbody>\n",
              "    <tr>\n",
              "      <th>4</th>\n",
              "      <td>[Award, Name, Combined Time, 1, 2, 3, 4]</td>\n",
              "    </tr>\n",
              "    <tr>\n",
              "      <th>5</th>\n",
              "      <td>[1ST, DTNA2, 02:54:41, 00:40:36 - ANDY WEDAM, ...</td>\n",
              "    </tr>\n",
              "    <tr>\n",
              "      <th>6</th>\n",
              "      <td>[2ND, INTEL TEAM K, 03:01:02, 00:41:43 - WILLI...</td>\n",
              "    </tr>\n",
              "    <tr>\n",
              "      <th>7</th>\n",
              "      <td>[3RD, INTEL TEAM F, 03:06:06, 00:36:42 - NATHA...</td>\n",
              "    </tr>\n",
              "    <tr>\n",
              "      <th>8</th>\n",
              "      <td>[4TH, DTNA1, 03:15:33, 00:40:28 - WITALI SPULI...</td>\n",
              "    </tr>\n",
              "    <tr>\n",
              "      <th>...</th>\n",
              "      <td>...</td>\n",
              "    </tr>\n",
              "    <tr>\n",
              "      <th>591</th>\n",
              "      <td>[572, 293, SPASS O STOIANTSCHEWSKY, M, PORTLAN...</td>\n",
              "    </tr>\n",
              "    <tr>\n",
              "      <th>592</th>\n",
              "      <td>[573, 273, RACHEL L VANEY, F, OTHER, OR, 1:38:...</td>\n",
              "    </tr>\n",
              "    <tr>\n",
              "      <th>593</th>\n",
              "      <td>[574, 467, ROHIT B DSOUZA, M, PORTLAND, OR, 1:...</td>\n",
              "    </tr>\n",
              "    <tr>\n",
              "      <th>594</th>\n",
              "      <td>[575, 471, CENITA D'SOUZA, F, PORTLAND, OR, 1:...</td>\n",
              "    </tr>\n",
              "    <tr>\n",
              "      <th>595</th>\n",
              "      <td>[576, 338, PRANAVI APPANA, F, HILLSBORO, OR, 1...</td>\n",
              "    </tr>\n",
              "  </tbody>\n",
              "</table>\n",
              "<p>592 rows × 1 columns</p>\n",
              "</div>"
            ],
            "text/plain": [
              "                                                     0\n",
              "4             [Award, Name, Combined Time, 1, 2, 3, 4]\n",
              "5    [1ST, DTNA2, 02:54:41, 00:40:36 - ANDY WEDAM, ...\n",
              "6    [2ND, INTEL TEAM K, 03:01:02, 00:41:43 - WILLI...\n",
              "7    [3RD, INTEL TEAM F, 03:06:06, 00:36:42 - NATHA...\n",
              "8    [4TH, DTNA1, 03:15:33, 00:40:28 - WITALI SPULI...\n",
              "..                                                 ...\n",
              "591  [572, 293, SPASS O STOIANTSCHEWSKY, M, PORTLAN...\n",
              "592  [573, 273, RACHEL L VANEY, F, OTHER, OR, 1:38:...\n",
              "593  [574, 467, ROHIT B DSOUZA, M, PORTLAND, OR, 1:...\n",
              "594  [575, 471, CENITA D'SOUZA, F, PORTLAND, OR, 1:...\n",
              "595  [576, 338, PRANAVI APPANA, F, HILLSBORO, OR, 1...\n",
              "\n",
              "[592 rows x 1 columns]"
            ]
          },
          "metadata": {
            "tags": []
          },
          "execution_count": 21
        }
      ]
    },
    {
      "cell_type": "code",
      "metadata": {
        "id": "DlC31oAfTgVb",
        "colab_type": "code",
        "colab": {
          "base_uri": "https://localhost:8080/",
          "height": 461
        },
        "outputId": "9574f62d-b4bf-4ac8-ee65-d6e576db5684"
      },
      "source": [
        "df1 = df[0].str.split(',',expand=True)\n",
        "df1.head(10)"
      ],
      "execution_count": 28,
      "outputs": [
        {
          "output_type": "execute_result",
          "data": {
            "text/html": [
              "<div>\n",
              "<style scoped>\n",
              "    .dataframe tbody tr th:only-of-type {\n",
              "        vertical-align: middle;\n",
              "    }\n",
              "\n",
              "    .dataframe tbody tr th {\n",
              "        vertical-align: top;\n",
              "    }\n",
              "\n",
              "    .dataframe thead th {\n",
              "        text-align: right;\n",
              "    }\n",
              "</style>\n",
              "<table border=\"1\" class=\"dataframe\">\n",
              "  <thead>\n",
              "    <tr style=\"text-align: right;\">\n",
              "      <th></th>\n",
              "      <th>0</th>\n",
              "      <th>1</th>\n",
              "      <th>2</th>\n",
              "      <th>3</th>\n",
              "      <th>4</th>\n",
              "      <th>5</th>\n",
              "      <th>6</th>\n",
              "      <th>7</th>\n",
              "      <th>8</th>\n",
              "      <th>9</th>\n",
              "      <th>10</th>\n",
              "      <th>11</th>\n",
              "      <th>12</th>\n",
              "      <th>13</th>\n",
              "    </tr>\n",
              "  </thead>\n",
              "  <tbody>\n",
              "    <tr>\n",
              "      <th>0</th>\n",
              "      <td>[]</td>\n",
              "      <td>None</td>\n",
              "      <td>None</td>\n",
              "      <td>None</td>\n",
              "      <td>None</td>\n",
              "      <td>None</td>\n",
              "      <td>None</td>\n",
              "      <td>None</td>\n",
              "      <td>None</td>\n",
              "      <td>None</td>\n",
              "      <td>None</td>\n",
              "      <td>None</td>\n",
              "      <td>None</td>\n",
              "      <td>None</td>\n",
              "    </tr>\n",
              "    <tr>\n",
              "      <th>1</th>\n",
              "      <td>[Finishers:</td>\n",
              "      <td>577]</td>\n",
              "      <td>None</td>\n",
              "      <td>None</td>\n",
              "      <td>None</td>\n",
              "      <td>None</td>\n",
              "      <td>None</td>\n",
              "      <td>None</td>\n",
              "      <td>None</td>\n",
              "      <td>None</td>\n",
              "      <td>None</td>\n",
              "      <td>None</td>\n",
              "      <td>None</td>\n",
              "      <td>None</td>\n",
              "    </tr>\n",
              "    <tr>\n",
              "      <th>2</th>\n",
              "      <td>[Male:</td>\n",
              "      <td>414]</td>\n",
              "      <td>None</td>\n",
              "      <td>None</td>\n",
              "      <td>None</td>\n",
              "      <td>None</td>\n",
              "      <td>None</td>\n",
              "      <td>None</td>\n",
              "      <td>None</td>\n",
              "      <td>None</td>\n",
              "      <td>None</td>\n",
              "      <td>None</td>\n",
              "      <td>None</td>\n",
              "      <td>None</td>\n",
              "    </tr>\n",
              "    <tr>\n",
              "      <th>3</th>\n",
              "      <td>[Female:</td>\n",
              "      <td>163]</td>\n",
              "      <td>None</td>\n",
              "      <td>None</td>\n",
              "      <td>None</td>\n",
              "      <td>None</td>\n",
              "      <td>None</td>\n",
              "      <td>None</td>\n",
              "      <td>None</td>\n",
              "      <td>None</td>\n",
              "      <td>None</td>\n",
              "      <td>None</td>\n",
              "      <td>None</td>\n",
              "      <td>None</td>\n",
              "    </tr>\n",
              "    <tr>\n",
              "      <th>4</th>\n",
              "      <td>[Award</td>\n",
              "      <td>Name</td>\n",
              "      <td>Combined Time</td>\n",
              "      <td>1</td>\n",
              "      <td>2</td>\n",
              "      <td>3</td>\n",
              "      <td>4]</td>\n",
              "      <td>None</td>\n",
              "      <td>None</td>\n",
              "      <td>None</td>\n",
              "      <td>None</td>\n",
              "      <td>None</td>\n",
              "      <td>None</td>\n",
              "      <td>None</td>\n",
              "    </tr>\n",
              "    <tr>\n",
              "      <th>5</th>\n",
              "      <td>[1ST</td>\n",
              "      <td>DTNA2</td>\n",
              "      <td>02:54:41</td>\n",
              "      <td>00:40:36 - ANDY WEDAM</td>\n",
              "      <td>00:44:05 - VASILIOS TSIRIMIAGOS</td>\n",
              "      <td>00:44:48 - ANDRE RAUCH</td>\n",
              "      <td>00:45:10 - JONATHAN PARSONS]</td>\n",
              "      <td>None</td>\n",
              "      <td>None</td>\n",
              "      <td>None</td>\n",
              "      <td>None</td>\n",
              "      <td>None</td>\n",
              "      <td>None</td>\n",
              "      <td>None</td>\n",
              "    </tr>\n",
              "    <tr>\n",
              "      <th>6</th>\n",
              "      <td>[2ND</td>\n",
              "      <td>INTEL TEAM K</td>\n",
              "      <td>03:01:02</td>\n",
              "      <td>00:41:43 - WILLIAM BARRY</td>\n",
              "      <td>00:42:36 - EDDIE J FRIE</td>\n",
              "      <td>00:43:46 - SAMANTHA BAGLEY</td>\n",
              "      <td>00:52:55 - JOHN HAMILTON]</td>\n",
              "      <td>None</td>\n",
              "      <td>None</td>\n",
              "      <td>None</td>\n",
              "      <td>None</td>\n",
              "      <td>None</td>\n",
              "      <td>None</td>\n",
              "      <td>None</td>\n",
              "    </tr>\n",
              "    <tr>\n",
              "      <th>7</th>\n",
              "      <td>[3RD</td>\n",
              "      <td>INTEL TEAM F</td>\n",
              "      <td>03:06:06</td>\n",
              "      <td>00:36:42 - NATHAN A SUSTERSIC</td>\n",
              "      <td>00:39:21 - DEREK G OSBORNE</td>\n",
              "      <td>00:52:47 - CODY L COVEY</td>\n",
              "      <td>00:57:16 - VIRAJ P MODAK]</td>\n",
              "      <td>None</td>\n",
              "      <td>None</td>\n",
              "      <td>None</td>\n",
              "      <td>None</td>\n",
              "      <td>None</td>\n",
              "      <td>None</td>\n",
              "      <td>None</td>\n",
              "    </tr>\n",
              "    <tr>\n",
              "      <th>8</th>\n",
              "      <td>[4TH</td>\n",
              "      <td>DTNA1</td>\n",
              "      <td>03:15:33</td>\n",
              "      <td>00:40:28 - WITALI SPULING</td>\n",
              "      <td>00:46:45 - INGA ANDREYEVA</td>\n",
              "      <td>00:54:09 - KEATON WEISENBORN</td>\n",
              "      <td>00:54:10 - MAISIE WEISENBORN]</td>\n",
              "      <td>None</td>\n",
              "      <td>None</td>\n",
              "      <td>None</td>\n",
              "      <td>None</td>\n",
              "      <td>None</td>\n",
              "      <td>None</td>\n",
              "      <td>None</td>\n",
              "    </tr>\n",
              "    <tr>\n",
              "      <th>9</th>\n",
              "      <td>[5TH</td>\n",
              "      <td>FXG1</td>\n",
              "      <td>03:21:16</td>\n",
              "      <td>00:42:56 - DAVID HERRON</td>\n",
              "      <td>00:46:35 - LEO SOTO</td>\n",
              "      <td>00:53:59 - TONY GONZALEZ</td>\n",
              "      <td>00:57:45 - ARINDA SCHRUM]</td>\n",
              "      <td>None</td>\n",
              "      <td>None</td>\n",
              "      <td>None</td>\n",
              "      <td>None</td>\n",
              "      <td>None</td>\n",
              "      <td>None</td>\n",
              "      <td>None</td>\n",
              "    </tr>\n",
              "  </tbody>\n",
              "</table>\n",
              "</div>"
            ],
            "text/plain": [
              "            0              1               2   ...    11    12    13\n",
              "0           []           None            None  ...  None  None  None\n",
              "1  [Finishers:           577]            None  ...  None  None  None\n",
              "2       [Male:           414]            None  ...  None  None  None\n",
              "3     [Female:           163]            None  ...  None  None  None\n",
              "4       [Award           Name   Combined Time  ...  None  None  None\n",
              "5         [1ST          DTNA2        02:54:41  ...  None  None  None\n",
              "6         [2ND   INTEL TEAM K        03:01:02  ...  None  None  None\n",
              "7         [3RD   INTEL TEAM F        03:06:06  ...  None  None  None\n",
              "8         [4TH          DTNA1        03:15:33  ...  None  None  None\n",
              "9         [5TH           FXG1        03:21:16  ...  None  None  None\n",
              "\n",
              "[10 rows x 14 columns]"
            ]
          },
          "metadata": {
            "tags": []
          },
          "execution_count": 28
        }
      ]
    },
    {
      "cell_type": "code",
      "metadata": {
        "id": "N5oCi0rxXtOU",
        "colab_type": "code",
        "colab": {
          "base_uri": "https://localhost:8080/",
          "height": 461
        },
        "outputId": "6c844aa3-d95d-4fa3-d432-6a3567f17993"
      },
      "source": [
        "df1[0] = df1[0].str.strip('[')\n",
        "df1.head(10)"
      ],
      "execution_count": 29,
      "outputs": [
        {
          "output_type": "execute_result",
          "data": {
            "text/html": [
              "<div>\n",
              "<style scoped>\n",
              "    .dataframe tbody tr th:only-of-type {\n",
              "        vertical-align: middle;\n",
              "    }\n",
              "\n",
              "    .dataframe tbody tr th {\n",
              "        vertical-align: top;\n",
              "    }\n",
              "\n",
              "    .dataframe thead th {\n",
              "        text-align: right;\n",
              "    }\n",
              "</style>\n",
              "<table border=\"1\" class=\"dataframe\">\n",
              "  <thead>\n",
              "    <tr style=\"text-align: right;\">\n",
              "      <th></th>\n",
              "      <th>0</th>\n",
              "      <th>1</th>\n",
              "      <th>2</th>\n",
              "      <th>3</th>\n",
              "      <th>4</th>\n",
              "      <th>5</th>\n",
              "      <th>6</th>\n",
              "      <th>7</th>\n",
              "      <th>8</th>\n",
              "      <th>9</th>\n",
              "      <th>10</th>\n",
              "      <th>11</th>\n",
              "      <th>12</th>\n",
              "      <th>13</th>\n",
              "    </tr>\n",
              "  </thead>\n",
              "  <tbody>\n",
              "    <tr>\n",
              "      <th>0</th>\n",
              "      <td>]</td>\n",
              "      <td>None</td>\n",
              "      <td>None</td>\n",
              "      <td>None</td>\n",
              "      <td>None</td>\n",
              "      <td>None</td>\n",
              "      <td>None</td>\n",
              "      <td>None</td>\n",
              "      <td>None</td>\n",
              "      <td>None</td>\n",
              "      <td>None</td>\n",
              "      <td>None</td>\n",
              "      <td>None</td>\n",
              "      <td>None</td>\n",
              "    </tr>\n",
              "    <tr>\n",
              "      <th>1</th>\n",
              "      <td>Finishers:</td>\n",
              "      <td>577]</td>\n",
              "      <td>None</td>\n",
              "      <td>None</td>\n",
              "      <td>None</td>\n",
              "      <td>None</td>\n",
              "      <td>None</td>\n",
              "      <td>None</td>\n",
              "      <td>None</td>\n",
              "      <td>None</td>\n",
              "      <td>None</td>\n",
              "      <td>None</td>\n",
              "      <td>None</td>\n",
              "      <td>None</td>\n",
              "    </tr>\n",
              "    <tr>\n",
              "      <th>2</th>\n",
              "      <td>Male:</td>\n",
              "      <td>414]</td>\n",
              "      <td>None</td>\n",
              "      <td>None</td>\n",
              "      <td>None</td>\n",
              "      <td>None</td>\n",
              "      <td>None</td>\n",
              "      <td>None</td>\n",
              "      <td>None</td>\n",
              "      <td>None</td>\n",
              "      <td>None</td>\n",
              "      <td>None</td>\n",
              "      <td>None</td>\n",
              "      <td>None</td>\n",
              "    </tr>\n",
              "    <tr>\n",
              "      <th>3</th>\n",
              "      <td>Female:</td>\n",
              "      <td>163]</td>\n",
              "      <td>None</td>\n",
              "      <td>None</td>\n",
              "      <td>None</td>\n",
              "      <td>None</td>\n",
              "      <td>None</td>\n",
              "      <td>None</td>\n",
              "      <td>None</td>\n",
              "      <td>None</td>\n",
              "      <td>None</td>\n",
              "      <td>None</td>\n",
              "      <td>None</td>\n",
              "      <td>None</td>\n",
              "    </tr>\n",
              "    <tr>\n",
              "      <th>4</th>\n",
              "      <td>Award</td>\n",
              "      <td>Name</td>\n",
              "      <td>Combined Time</td>\n",
              "      <td>1</td>\n",
              "      <td>2</td>\n",
              "      <td>3</td>\n",
              "      <td>4]</td>\n",
              "      <td>None</td>\n",
              "      <td>None</td>\n",
              "      <td>None</td>\n",
              "      <td>None</td>\n",
              "      <td>None</td>\n",
              "      <td>None</td>\n",
              "      <td>None</td>\n",
              "    </tr>\n",
              "    <tr>\n",
              "      <th>5</th>\n",
              "      <td>1ST</td>\n",
              "      <td>DTNA2</td>\n",
              "      <td>02:54:41</td>\n",
              "      <td>00:40:36 - ANDY WEDAM</td>\n",
              "      <td>00:44:05 - VASILIOS TSIRIMIAGOS</td>\n",
              "      <td>00:44:48 - ANDRE RAUCH</td>\n",
              "      <td>00:45:10 - JONATHAN PARSONS]</td>\n",
              "      <td>None</td>\n",
              "      <td>None</td>\n",
              "      <td>None</td>\n",
              "      <td>None</td>\n",
              "      <td>None</td>\n",
              "      <td>None</td>\n",
              "      <td>None</td>\n",
              "    </tr>\n",
              "    <tr>\n",
              "      <th>6</th>\n",
              "      <td>2ND</td>\n",
              "      <td>INTEL TEAM K</td>\n",
              "      <td>03:01:02</td>\n",
              "      <td>00:41:43 - WILLIAM BARRY</td>\n",
              "      <td>00:42:36 - EDDIE J FRIE</td>\n",
              "      <td>00:43:46 - SAMANTHA BAGLEY</td>\n",
              "      <td>00:52:55 - JOHN HAMILTON]</td>\n",
              "      <td>None</td>\n",
              "      <td>None</td>\n",
              "      <td>None</td>\n",
              "      <td>None</td>\n",
              "      <td>None</td>\n",
              "      <td>None</td>\n",
              "      <td>None</td>\n",
              "    </tr>\n",
              "    <tr>\n",
              "      <th>7</th>\n",
              "      <td>3RD</td>\n",
              "      <td>INTEL TEAM F</td>\n",
              "      <td>03:06:06</td>\n",
              "      <td>00:36:42 - NATHAN A SUSTERSIC</td>\n",
              "      <td>00:39:21 - DEREK G OSBORNE</td>\n",
              "      <td>00:52:47 - CODY L COVEY</td>\n",
              "      <td>00:57:16 - VIRAJ P MODAK]</td>\n",
              "      <td>None</td>\n",
              "      <td>None</td>\n",
              "      <td>None</td>\n",
              "      <td>None</td>\n",
              "      <td>None</td>\n",
              "      <td>None</td>\n",
              "      <td>None</td>\n",
              "    </tr>\n",
              "    <tr>\n",
              "      <th>8</th>\n",
              "      <td>4TH</td>\n",
              "      <td>DTNA1</td>\n",
              "      <td>03:15:33</td>\n",
              "      <td>00:40:28 - WITALI SPULING</td>\n",
              "      <td>00:46:45 - INGA ANDREYEVA</td>\n",
              "      <td>00:54:09 - KEATON WEISENBORN</td>\n",
              "      <td>00:54:10 - MAISIE WEISENBORN]</td>\n",
              "      <td>None</td>\n",
              "      <td>None</td>\n",
              "      <td>None</td>\n",
              "      <td>None</td>\n",
              "      <td>None</td>\n",
              "      <td>None</td>\n",
              "      <td>None</td>\n",
              "    </tr>\n",
              "    <tr>\n",
              "      <th>9</th>\n",
              "      <td>5TH</td>\n",
              "      <td>FXG1</td>\n",
              "      <td>03:21:16</td>\n",
              "      <td>00:42:56 - DAVID HERRON</td>\n",
              "      <td>00:46:35 - LEO SOTO</td>\n",
              "      <td>00:53:59 - TONY GONZALEZ</td>\n",
              "      <td>00:57:45 - ARINDA SCHRUM]</td>\n",
              "      <td>None</td>\n",
              "      <td>None</td>\n",
              "      <td>None</td>\n",
              "      <td>None</td>\n",
              "      <td>None</td>\n",
              "      <td>None</td>\n",
              "      <td>None</td>\n",
              "    </tr>\n",
              "  </tbody>\n",
              "</table>\n",
              "</div>"
            ],
            "text/plain": [
              "           0              1               2   ...    11    12    13\n",
              "0           ]           None            None  ...  None  None  None\n",
              "1  Finishers:           577]            None  ...  None  None  None\n",
              "2       Male:           414]            None  ...  None  None  None\n",
              "3     Female:           163]            None  ...  None  None  None\n",
              "4       Award           Name   Combined Time  ...  None  None  None\n",
              "5         1ST          DTNA2        02:54:41  ...  None  None  None\n",
              "6         2ND   INTEL TEAM K        03:01:02  ...  None  None  None\n",
              "7         3RD   INTEL TEAM F        03:06:06  ...  None  None  None\n",
              "8         4TH          DTNA1        03:15:33  ...  None  None  None\n",
              "9         5TH           FXG1        03:21:16  ...  None  None  None\n",
              "\n",
              "[10 rows x 14 columns]"
            ]
          },
          "metadata": {
            "tags": []
          },
          "execution_count": 29
        }
      ]
    },
    {
      "cell_type": "code",
      "metadata": {
        "id": "pfKN07QMY3JZ",
        "colab_type": "code",
        "colab": {}
      },
      "source": [
        "col_labels = soup.find_all('th')"
      ],
      "execution_count": 0,
      "outputs": []
    },
    {
      "cell_type": "code",
      "metadata": {
        "id": "HiqYmXAsZC2n",
        "colab_type": "code",
        "colab": {
          "base_uri": "https://localhost:8080/",
          "height": 255
        },
        "outputId": "06f404b3-0733-4641-b04d-0a98ee0f72a4"
      },
      "source": [
        "col_labels"
      ],
      "execution_count": 35,
      "outputs": [
        {
          "output_type": "execute_result",
          "data": {
            "text/plain": [
              "[<th>Place</th>,\n",
              " <th>Bib</th>,\n",
              " <th>Name</th>,\n",
              " <th>Gender</th>,\n",
              " <th>City</th>,\n",
              " <th>State</th>,\n",
              " <th>Chip Time</th>,\n",
              " <th>Chip Pace</th>,\n",
              " <th>Gender Place</th>,\n",
              " <th>Age Group</th>,\n",
              " <th>Age Group Place</th>,\n",
              " <th>Time to Start</th>,\n",
              " <th>Gun Time</th>,\n",
              " <th>Team</th>]"
            ]
          },
          "metadata": {
            "tags": []
          },
          "execution_count": 35
        }
      ]
    },
    {
      "cell_type": "code",
      "metadata": {
        "id": "_RN79m8_ZOjo",
        "colab_type": "code",
        "colab": {
          "base_uri": "https://localhost:8080/",
          "height": 34
        },
        "outputId": "7eb32c69-f7e5-4b78-a37c-ad6357c72e35"
      },
      "source": [
        "all_header=[]\n",
        "col_str = str(col_labels)\n",
        "clean_text2 = BeautifulSoup(col_str,'lxml').get_text()\n",
        "all_header.append(clean_text2)\n",
        "print(all_header)"
      ],
      "execution_count": 37,
      "outputs": [
        {
          "output_type": "stream",
          "text": [
            "['[Place, Bib, Name, Gender, City, State, Chip Time, Chip Pace, Gender Place, Age Group, Age Group Place, Time to Start, Gun Time, Team]']\n"
          ],
          "name": "stdout"
        }
      ]
    },
    {
      "cell_type": "code",
      "metadata": {
        "id": "zgd1qKMoZ9Nu",
        "colab_type": "code",
        "colab": {
          "base_uri": "https://localhost:8080/",
          "height": 80
        },
        "outputId": "c63be8fd-2677-43bd-a04a-b30752c775c3"
      },
      "source": [
        "df2 = pd.DataFrame(all_header)\n",
        "df2.head()"
      ],
      "execution_count": 38,
      "outputs": [
        {
          "output_type": "execute_result",
          "data": {
            "text/html": [
              "<div>\n",
              "<style scoped>\n",
              "    .dataframe tbody tr th:only-of-type {\n",
              "        vertical-align: middle;\n",
              "    }\n",
              "\n",
              "    .dataframe tbody tr th {\n",
              "        vertical-align: top;\n",
              "    }\n",
              "\n",
              "    .dataframe thead th {\n",
              "        text-align: right;\n",
              "    }\n",
              "</style>\n",
              "<table border=\"1\" class=\"dataframe\">\n",
              "  <thead>\n",
              "    <tr style=\"text-align: right;\">\n",
              "      <th></th>\n",
              "      <th>0</th>\n",
              "    </tr>\n",
              "  </thead>\n",
              "  <tbody>\n",
              "    <tr>\n",
              "      <th>0</th>\n",
              "      <td>[Place, Bib, Name, Gender, City, State, Chip T...</td>\n",
              "    </tr>\n",
              "  </tbody>\n",
              "</table>\n",
              "</div>"
            ],
            "text/plain": [
              "                                                   0\n",
              "0  [Place, Bib, Name, Gender, City, State, Chip T..."
            ]
          },
          "metadata": {
            "tags": []
          },
          "execution_count": 38
        }
      ]
    },
    {
      "cell_type": "code",
      "metadata": {
        "id": "1Luu6QcJaKdZ",
        "colab_type": "code",
        "colab": {
          "base_uri": "https://localhost:8080/",
          "height": 80
        },
        "outputId": "27774e08-3187-4953-8ad1-134d0053ade5"
      },
      "source": [
        "df3 = df2[0].str.split(',',expand=True)\n",
        "df3.head()"
      ],
      "execution_count": 40,
      "outputs": [
        {
          "output_type": "execute_result",
          "data": {
            "text/html": [
              "<div>\n",
              "<style scoped>\n",
              "    .dataframe tbody tr th:only-of-type {\n",
              "        vertical-align: middle;\n",
              "    }\n",
              "\n",
              "    .dataframe tbody tr th {\n",
              "        vertical-align: top;\n",
              "    }\n",
              "\n",
              "    .dataframe thead th {\n",
              "        text-align: right;\n",
              "    }\n",
              "</style>\n",
              "<table border=\"1\" class=\"dataframe\">\n",
              "  <thead>\n",
              "    <tr style=\"text-align: right;\">\n",
              "      <th></th>\n",
              "      <th>0</th>\n",
              "      <th>1</th>\n",
              "      <th>2</th>\n",
              "      <th>3</th>\n",
              "      <th>4</th>\n",
              "      <th>5</th>\n",
              "      <th>6</th>\n",
              "      <th>7</th>\n",
              "      <th>8</th>\n",
              "      <th>9</th>\n",
              "      <th>10</th>\n",
              "      <th>11</th>\n",
              "      <th>12</th>\n",
              "      <th>13</th>\n",
              "    </tr>\n",
              "  </thead>\n",
              "  <tbody>\n",
              "    <tr>\n",
              "      <th>0</th>\n",
              "      <td>[Place</td>\n",
              "      <td>Bib</td>\n",
              "      <td>Name</td>\n",
              "      <td>Gender</td>\n",
              "      <td>City</td>\n",
              "      <td>State</td>\n",
              "      <td>Chip Time</td>\n",
              "      <td>Chip Pace</td>\n",
              "      <td>Gender Place</td>\n",
              "      <td>Age Group</td>\n",
              "      <td>Age Group Place</td>\n",
              "      <td>Time to Start</td>\n",
              "      <td>Gun Time</td>\n",
              "      <td>Team]</td>\n",
              "    </tr>\n",
              "  </tbody>\n",
              "</table>\n",
              "</div>"
            ],
            "text/plain": [
              "       0     1      2   ...              11         12      13\n",
              "0  [Place   Bib   Name  ...   Time to Start   Gun Time   Team]\n",
              "\n",
              "[1 rows x 14 columns]"
            ]
          },
          "metadata": {
            "tags": []
          },
          "execution_count": 40
        }
      ]
    },
    {
      "cell_type": "code",
      "metadata": {
        "id": "qDXGalwUaTrZ",
        "colab_type": "code",
        "colab": {
          "base_uri": "https://localhost:8080/",
          "height": 204
        },
        "outputId": "5eba3736-47a7-49bf-9c89-1c7b18995b0c"
      },
      "source": [
        "df4 = pd.concat([df3,df1])\n",
        "df4.head()"
      ],
      "execution_count": 42,
      "outputs": [
        {
          "output_type": "execute_result",
          "data": {
            "text/html": [
              "<div>\n",
              "<style scoped>\n",
              "    .dataframe tbody tr th:only-of-type {\n",
              "        vertical-align: middle;\n",
              "    }\n",
              "\n",
              "    .dataframe tbody tr th {\n",
              "        vertical-align: top;\n",
              "    }\n",
              "\n",
              "    .dataframe thead th {\n",
              "        text-align: right;\n",
              "    }\n",
              "</style>\n",
              "<table border=\"1\" class=\"dataframe\">\n",
              "  <thead>\n",
              "    <tr style=\"text-align: right;\">\n",
              "      <th></th>\n",
              "      <th>0</th>\n",
              "      <th>1</th>\n",
              "      <th>2</th>\n",
              "      <th>3</th>\n",
              "      <th>4</th>\n",
              "      <th>5</th>\n",
              "      <th>6</th>\n",
              "      <th>7</th>\n",
              "      <th>8</th>\n",
              "      <th>9</th>\n",
              "      <th>10</th>\n",
              "      <th>11</th>\n",
              "      <th>12</th>\n",
              "      <th>13</th>\n",
              "    </tr>\n",
              "  </thead>\n",
              "  <tbody>\n",
              "    <tr>\n",
              "      <th>0</th>\n",
              "      <td>[Place</td>\n",
              "      <td>Bib</td>\n",
              "      <td>Name</td>\n",
              "      <td>Gender</td>\n",
              "      <td>City</td>\n",
              "      <td>State</td>\n",
              "      <td>Chip Time</td>\n",
              "      <td>Chip Pace</td>\n",
              "      <td>Gender Place</td>\n",
              "      <td>Age Group</td>\n",
              "      <td>Age Group Place</td>\n",
              "      <td>Time to Start</td>\n",
              "      <td>Gun Time</td>\n",
              "      <td>Team]</td>\n",
              "    </tr>\n",
              "    <tr>\n",
              "      <th>0</th>\n",
              "      <td>]</td>\n",
              "      <td>None</td>\n",
              "      <td>None</td>\n",
              "      <td>None</td>\n",
              "      <td>None</td>\n",
              "      <td>None</td>\n",
              "      <td>None</td>\n",
              "      <td>None</td>\n",
              "      <td>None</td>\n",
              "      <td>None</td>\n",
              "      <td>None</td>\n",
              "      <td>None</td>\n",
              "      <td>None</td>\n",
              "      <td>None</td>\n",
              "    </tr>\n",
              "    <tr>\n",
              "      <th>1</th>\n",
              "      <td>Finishers:</td>\n",
              "      <td>577]</td>\n",
              "      <td>None</td>\n",
              "      <td>None</td>\n",
              "      <td>None</td>\n",
              "      <td>None</td>\n",
              "      <td>None</td>\n",
              "      <td>None</td>\n",
              "      <td>None</td>\n",
              "      <td>None</td>\n",
              "      <td>None</td>\n",
              "      <td>None</td>\n",
              "      <td>None</td>\n",
              "      <td>None</td>\n",
              "    </tr>\n",
              "    <tr>\n",
              "      <th>2</th>\n",
              "      <td>Male:</td>\n",
              "      <td>414]</td>\n",
              "      <td>None</td>\n",
              "      <td>None</td>\n",
              "      <td>None</td>\n",
              "      <td>None</td>\n",
              "      <td>None</td>\n",
              "      <td>None</td>\n",
              "      <td>None</td>\n",
              "      <td>None</td>\n",
              "      <td>None</td>\n",
              "      <td>None</td>\n",
              "      <td>None</td>\n",
              "      <td>None</td>\n",
              "    </tr>\n",
              "    <tr>\n",
              "      <th>3</th>\n",
              "      <td>Female:</td>\n",
              "      <td>163]</td>\n",
              "      <td>None</td>\n",
              "      <td>None</td>\n",
              "      <td>None</td>\n",
              "      <td>None</td>\n",
              "      <td>None</td>\n",
              "      <td>None</td>\n",
              "      <td>None</td>\n",
              "      <td>None</td>\n",
              "      <td>None</td>\n",
              "      <td>None</td>\n",
              "      <td>None</td>\n",
              "      <td>None</td>\n",
              "    </tr>\n",
              "  </tbody>\n",
              "</table>\n",
              "</div>"
            ],
            "text/plain": [
              "           0      1      2   ...              11         12      13\n",
              "0      [Place    Bib   Name  ...   Time to Start   Gun Time   Team]\n",
              "0           ]   None   None  ...            None       None    None\n",
              "1  Finishers:   577]   None  ...            None       None    None\n",
              "2       Male:   414]   None  ...            None       None    None\n",
              "3     Female:   163]   None  ...            None       None    None\n",
              "\n",
              "[5 rows x 14 columns]"
            ]
          },
          "metadata": {
            "tags": []
          },
          "execution_count": 42
        }
      ]
    },
    {
      "cell_type": "code",
      "metadata": {
        "id": "0ZOef_Xgal0Q",
        "colab_type": "code",
        "colab": {
          "base_uri": "https://localhost:8080/",
          "height": 204
        },
        "outputId": "be516029-3124-42bd-a369-7bf1e83efbf9"
      },
      "source": [
        "df5 = df4.rename(columns = df4.iloc[0])\n",
        "df5.head()"
      ],
      "execution_count": 43,
      "outputs": [
        {
          "output_type": "execute_result",
          "data": {
            "text/html": [
              "<div>\n",
              "<style scoped>\n",
              "    .dataframe tbody tr th:only-of-type {\n",
              "        vertical-align: middle;\n",
              "    }\n",
              "\n",
              "    .dataframe tbody tr th {\n",
              "        vertical-align: top;\n",
              "    }\n",
              "\n",
              "    .dataframe thead th {\n",
              "        text-align: right;\n",
              "    }\n",
              "</style>\n",
              "<table border=\"1\" class=\"dataframe\">\n",
              "  <thead>\n",
              "    <tr style=\"text-align: right;\">\n",
              "      <th></th>\n",
              "      <th>[Place</th>\n",
              "      <th>Bib</th>\n",
              "      <th>Name</th>\n",
              "      <th>Gender</th>\n",
              "      <th>City</th>\n",
              "      <th>State</th>\n",
              "      <th>Chip Time</th>\n",
              "      <th>Chip Pace</th>\n",
              "      <th>Gender Place</th>\n",
              "      <th>Age Group</th>\n",
              "      <th>Age Group Place</th>\n",
              "      <th>Time to Start</th>\n",
              "      <th>Gun Time</th>\n",
              "      <th>Team]</th>\n",
              "    </tr>\n",
              "  </thead>\n",
              "  <tbody>\n",
              "    <tr>\n",
              "      <th>0</th>\n",
              "      <td>[Place</td>\n",
              "      <td>Bib</td>\n",
              "      <td>Name</td>\n",
              "      <td>Gender</td>\n",
              "      <td>City</td>\n",
              "      <td>State</td>\n",
              "      <td>Chip Time</td>\n",
              "      <td>Chip Pace</td>\n",
              "      <td>Gender Place</td>\n",
              "      <td>Age Group</td>\n",
              "      <td>Age Group Place</td>\n",
              "      <td>Time to Start</td>\n",
              "      <td>Gun Time</td>\n",
              "      <td>Team]</td>\n",
              "    </tr>\n",
              "    <tr>\n",
              "      <th>0</th>\n",
              "      <td>]</td>\n",
              "      <td>None</td>\n",
              "      <td>None</td>\n",
              "      <td>None</td>\n",
              "      <td>None</td>\n",
              "      <td>None</td>\n",
              "      <td>None</td>\n",
              "      <td>None</td>\n",
              "      <td>None</td>\n",
              "      <td>None</td>\n",
              "      <td>None</td>\n",
              "      <td>None</td>\n",
              "      <td>None</td>\n",
              "      <td>None</td>\n",
              "    </tr>\n",
              "    <tr>\n",
              "      <th>1</th>\n",
              "      <td>Finishers:</td>\n",
              "      <td>577]</td>\n",
              "      <td>None</td>\n",
              "      <td>None</td>\n",
              "      <td>None</td>\n",
              "      <td>None</td>\n",
              "      <td>None</td>\n",
              "      <td>None</td>\n",
              "      <td>None</td>\n",
              "      <td>None</td>\n",
              "      <td>None</td>\n",
              "      <td>None</td>\n",
              "      <td>None</td>\n",
              "      <td>None</td>\n",
              "    </tr>\n",
              "    <tr>\n",
              "      <th>2</th>\n",
              "      <td>Male:</td>\n",
              "      <td>414]</td>\n",
              "      <td>None</td>\n",
              "      <td>None</td>\n",
              "      <td>None</td>\n",
              "      <td>None</td>\n",
              "      <td>None</td>\n",
              "      <td>None</td>\n",
              "      <td>None</td>\n",
              "      <td>None</td>\n",
              "      <td>None</td>\n",
              "      <td>None</td>\n",
              "      <td>None</td>\n",
              "      <td>None</td>\n",
              "    </tr>\n",
              "    <tr>\n",
              "      <th>3</th>\n",
              "      <td>Female:</td>\n",
              "      <td>163]</td>\n",
              "      <td>None</td>\n",
              "      <td>None</td>\n",
              "      <td>None</td>\n",
              "      <td>None</td>\n",
              "      <td>None</td>\n",
              "      <td>None</td>\n",
              "      <td>None</td>\n",
              "      <td>None</td>\n",
              "      <td>None</td>\n",
              "      <td>None</td>\n",
              "      <td>None</td>\n",
              "      <td>None</td>\n",
              "    </tr>\n",
              "  </tbody>\n",
              "</table>\n",
              "</div>"
            ],
            "text/plain": [
              "       [Place    Bib   Name  ...   Time to Start   Gun Time   Team]\n",
              "0      [Place    Bib   Name  ...   Time to Start   Gun Time   Team]\n",
              "0           ]   None   None  ...            None       None    None\n",
              "1  Finishers:   577]   None  ...            None       None    None\n",
              "2       Male:   414]   None  ...            None       None    None\n",
              "3     Female:   163]   None  ...            None       None    None\n",
              "\n",
              "[5 rows x 14 columns]"
            ]
          },
          "metadata": {
            "tags": []
          },
          "execution_count": 43
        }
      ]
    },
    {
      "cell_type": "code",
      "metadata": {
        "id": "LkkN2sRpav_d",
        "colab_type": "code",
        "colab": {}
      },
      "source": [
        ""
      ],
      "execution_count": 0,
      "outputs": []
    }
  ]
}